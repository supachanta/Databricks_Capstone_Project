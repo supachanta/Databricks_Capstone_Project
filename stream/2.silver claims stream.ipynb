{
 "cells": [
  {
   "cell_type": "code",
   "execution_count": 0,
   "metadata": {
    "application/vnd.databricks.v1+cell": {
     "cellMetadata": {},
     "inputWidgets": {},
     "nuid": "57c85c77-7731-4eac-aaea-b5bca343e325",
     "showTitle": false,
     "tableResultSettingsMap": {},
     "title": ""
    }
   },
   "outputs": [],
   "source": [
    "import dlt\n",
    "from pyspark.sql.functions import split,col\n",
    "\n",
    "# \n",
    "@dlt.table(\n",
    "    name=\"silver_claims_stream\",\n",
    "    comment=\"Cleaned data with ClaimID is not null, removing duplicate\",\n",
    "    table_properties={\n",
    "        \"quality\": \"silver\",\n",
    "        \"pipelines.autoOptimize.managed\": \"true\"\n",
    "    }\n",
    ")\n",
    "def silver_claim():\n",
    "    claims_df = dlt.read(\"bronze_claims_stream\").filter(col(\"ClaimID\").isNotNull()).dropDuplicates([\"ClaimID\"])    \n",
    "    claims_df_clean = (\n",
    "        claims_df\n",
    "        .withColumn(\"ICD10Codes\", split(claims_df.ICD10Codes, \";\"))\n",
    "        .withColumn(\"CPTCodes\", split(claims_df.CPTCodes, \";\"))\n",
    "    )\n",
    "    return claims_df_clean\n"
   ]
  }
 ],
 "metadata": {
  "application/vnd.databricks.v1+notebook": {
   "computePreferences": null,
   "dashboards": [],
   "environmentMetadata": {
    "base_environment": "",
    "environment_version": "3"
   },
   "inputWidgetPreferences": null,
   "language": "python",
   "notebookMetadata": {
    "pythonIndentUnit": 4
   },
   "notebookName": "2.silver claims stream",
   "widgets": {}
  },
  "language_info": {
   "name": "python"
  }
 },
 "nbformat": 4,
 "nbformat_minor": 0
}
