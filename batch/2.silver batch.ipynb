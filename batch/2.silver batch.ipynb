{
 "cells": [
  {
   "cell_type": "code",
   "execution_count": 0,
   "metadata": {
    "application/vnd.databricks.v1+cell": {
     "cellMetadata": {},
     "inputWidgets": {},
     "nuid": "551a1bc1-ac09-4804-97f8-a29ae6f8dde4",
     "showTitle": false,
     "tableResultSettingsMap": {},
     "title": ""
    }
   },
   "outputs": [],
   "source": [
    "import dlt\n",
    "from pyspark.sql.functions import *\n",
    "\n",
    "# Silver claims : get claims from bronze to build silver table\n",
    "@dlt.table(\n",
    "    name=\"silver_claims_batch\",\n",
    "    comment=\"get claims from bronze to build silver table\",\n",
    "    table_properties={\n",
    "        \"quality\": \"silver\",\n",
    "        \"pipelines.autoOptimize.managed\": \"true\"\n",
    "    }\n",
    ")\n",
    "def silver_claim():\n",
    "    df = dlt.read(\"bronze_claims_batch\").filter(col(\"ClaimID\").isNotNull()).dropDuplicates([\"ClaimID\"])\n",
    "    return df"
   ]
  },
  {
   "cell_type": "code",
   "execution_count": 0,
   "metadata": {
    "application/vnd.databricks.v1+cell": {
     "cellMetadata": {},
     "inputWidgets": {},
     "nuid": "b8a5909e-b87d-4122-87e3-07642a86ba6f",
     "showTitle": false,
     "tableResultSettingsMap": {},
     "title": ""
    }
   },
   "outputs": [],
   "source": [
    "# Silver diagnosis : get diagnosis from bronze to build silver table\n",
    "@dlt.table(\n",
    "    name=\"silver_diagnosis\",\n",
    "    comment=\"get claims from bronze to build silver table\",\n",
    "    table_properties={\n",
    "        \"quality\": \"silver\",\n",
    "        \"pipelines.autoOptimize.managed\": \"true\"\n",
    "    }\n",
    ")\n",
    "def silver_diagnosis():\n",
    "    df= dlt.read(\"bronze_diagnosis\").filter(col(\"code\").isNotNull()).dropDuplicates([\"code\"])\n",
    "    return df"
   ]
  },
  {
   "cell_type": "code",
   "execution_count": 0,
   "metadata": {
    "application/vnd.databricks.v1+cell": {
     "cellMetadata": {},
     "inputWidgets": {},
     "nuid": "8657b2b2-c577-4eca-97df-a24ff6a57ff1",
     "showTitle": false,
     "tableResultSettingsMap": {},
     "title": ""
    }
   },
   "outputs": [],
   "source": [
    " # Silver provider : get provider from bronze to build silver table\n",
    "@dlt.table(\n",
    "    name=\"silver_providers\",\n",
    "    comment=\"get provider from bronze to build silver table\",\n",
    "    table_properties={\n",
    "        \"quality\": \"silver\",\n",
    "        \"pipelines.autoOptimize.managed\": \"true\"\n",
    "    }\n",
    ")\n",
    "def silver_providers():\n",
    "    df = dlt.read(\"bronze_providers\").filter(col(\"ProviderID\").isNotNull()).dropDuplicates([\"ProviderID\"])   \n",
    "    return df"
   ]
  },
  {
   "cell_type": "code",
   "execution_count": 0,
   "metadata": {
    "application/vnd.databricks.v1+cell": {
     "cellMetadata": {},
     "inputWidgets": {},
     "nuid": "30b86e5a-1102-4492-865f-a941aa71dd52",
     "showTitle": false,
     "tableResultSettingsMap": {},
     "title": ""
    }
   },
   "outputs": [],
   "source": [
    "# Silver member : get member from bronze to build silver table\n",
    "@dlt.table(\n",
    "  name=\"silver_members\",\n",
    "  comment=\"get member from bronze to build silver table\",\n",
    "   table_properties={\n",
    "        \"quality\": \"silver\",\n",
    "        \"pipelines.autoOptimize.managed\": \"true\"\n",
    "    }\n",
    ")\n",
    "def silver_members():\n",
    "    df = dlt.read(\"bronze_members\")\n",
    "    return df.filter(col(\"memberID\").isNotNull()).dropDuplicates([\"memberID\"])"
   ]
  }
 ],
 "metadata": {
  "application/vnd.databricks.v1+notebook": {
   "computePreferences": null,
   "dashboards": [],
   "environmentMetadata": {
    "base_environment": "",
    "environment_version": "3"
   },
   "inputWidgetPreferences": null,
   "language": "python",
   "notebookMetadata": {
    "pythonIndentUnit": 4
   },
   "notebookName": "2.silver batch",
   "widgets": {}
  },
  "language_info": {
   "name": "python"
  }
 },
 "nbformat": 4,
 "nbformat_minor": 0
}
