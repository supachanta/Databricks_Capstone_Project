{
 "cells": [
  {
   "cell_type": "code",
   "execution_count": 0,
   "metadata": {
    "application/vnd.databricks.v1+cell": {
     "cellMetadata": {},
     "inputWidgets": {},
     "nuid": "551a1bc1-ac09-4804-97f8-a29ae6f8dde4",
     "showTitle": false,
     "tableResultSettingsMap": {},
     "title": ""
    }
   },
   "outputs": [],
   "source": [
    "import dlt\n",
    "from pyspark.sql.functions import *\n",
    "\n",
    "# Gold claims : Join with all dimensions to build fact table\n",
    "@dlt.table(\n",
    "    name=\"gold_fact_claims_batch\",\n",
    "    comment=\"Join with all dimensions to build fact table\",\n",
    "    table_properties={\n",
    "        \"quality\": \"silver\",\n",
    "        \"pipelines.autoOptimize.managed\": \"true\"\n",
    "    }\n",
    ")\n",
    "def silver_claim():\n",
    "    df_claim = dlt.read(\"silver_claims_batch\")\n",
    "    #df_dim_diagnosis = dlt.read(\"gold_dim_diagnosis\")\n",
    "    #df_dim_provider = dlt.read(\"gold_dim_providers\")\n",
    "    #df_dim_member = dlt.read(\"gold_dim_members\")\n",
    "\n",
    "    return df_claim\n"
   ]
  },
  {
   "cell_type": "code",
   "execution_count": 0,
   "metadata": {
    "application/vnd.databricks.v1+cell": {
     "cellMetadata": {},
     "inputWidgets": {},
     "nuid": "b8a5909e-b87d-4122-87e3-07642a86ba6f",
     "showTitle": false,
     "tableResultSettingsMap": {},
     "title": ""
    }
   },
   "outputs": [],
   "source": [
    "# Gold diagnosis : get diagnosis from silver to build gold dimension table\n",
    "@dlt.table(\n",
    "    name=\"gold_dim_diagnosis\",\n",
    "    comment=\"get diagnosis from silver to build gold dimension table\",\n",
    "    table_properties={\n",
    "        \"quality\": \"silver\",\n",
    "        \"pipelines.autoOptimize.managed\": \"true\"\n",
    "    }\n",
    ")\n",
    "def silver_diagnosis():\n",
    "    df= dlt.read(\"silver_diagnosis\")\n",
    "    return df"
   ]
  },
  {
   "cell_type": "code",
   "execution_count": 0,
   "metadata": {
    "application/vnd.databricks.v1+cell": {
     "cellMetadata": {},
     "inputWidgets": {},
     "nuid": "8657b2b2-c577-4eca-97df-a24ff6a57ff1",
     "showTitle": false,
     "tableResultSettingsMap": {},
     "title": ""
    }
   },
   "outputs": [],
   "source": [
    "# Gold provider : get provider from silver to build gold dimension table\n",
    "@dlt.table(\n",
    "    name=\"gold_dim_providers\",\n",
    "    comment=\"get provider from silver to build gold dimension table\",\n",
    "    table_properties={\n",
    "        \"quality\": \"silver\",\n",
    "        \"pipelines.autoOptimize.managed\": \"true\"\n",
    "    }\n",
    ")\n",
    "def silver_providers():\n",
    "    df = dlt.read(\"silver_providers\")\n",
    "    return df"
   ]
  },
  {
   "cell_type": "code",
   "execution_count": 0,
   "metadata": {
    "application/vnd.databricks.v1+cell": {
     "cellMetadata": {},
     "inputWidgets": {},
     "nuid": "30b86e5a-1102-4492-865f-a941aa71dd52",
     "showTitle": false,
     "tableResultSettingsMap": {},
     "title": ""
    }
   },
   "outputs": [],
   "source": [
    "# Gold member : get member from silver to build gold dimension table\n",
    "@dlt.table(\n",
    "  name=\"gold_dim_members\",\n",
    "  comment=\"get member from silver to build gold dimension table\",\n",
    "   table_properties={\n",
    "        \"quality\": \"silver\",\n",
    "        \"pipelines.autoOptimize.managed\": \"true\"\n",
    "    }\n",
    ")\n",
    "def silver_members():\n",
    "    df = dlt.read(\"silver_members\")\n",
    "    return df"
   ]
  }
 ],
 "metadata": {
  "application/vnd.databricks.v1+notebook": {
   "computePreferences": null,
   "dashboards": [],
   "environmentMetadata": {
    "base_environment": "",
    "environment_version": "3"
   },
   "inputWidgetPreferences": null,
   "language": "python",
   "notebookMetadata": {
    "pythonIndentUnit": 4
   },
   "notebookName": "3.gold batch",
   "widgets": {}
  },
  "language_info": {
   "name": "python"
  }
 },
 "nbformat": 4,
 "nbformat_minor": 0
}
